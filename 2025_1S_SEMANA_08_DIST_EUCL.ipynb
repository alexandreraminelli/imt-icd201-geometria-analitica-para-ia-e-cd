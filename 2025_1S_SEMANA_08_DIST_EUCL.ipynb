{
  "cells": [
    {
      "cell_type": "markdown",
      "id": "a0f9fc65",
      "metadata": {
        "id": "a0f9fc65"
      },
      "source": [
        "<img src= \"https://maua.br/images/logo-IMT.png\" width=250>"
      ]
    },
    {
      "cell_type": "markdown",
      "id": "cf4b175c",
      "metadata": {
        "id": "cf4b175c"
      },
      "source": [
        "#  <center> <font color=#023e8a>  **ID201: Geometria Analítica para Inteligência Artificial e Ciência de Dados.**  <center>\n",
        " <center> Prof. Sandro Martini <center>"
      ]
    },
    {
      "cell_type": "markdown",
      "id": "89f58705",
      "metadata": {
        "id": "89f58705"
      },
      "source": [
        "## <center>  **Semana 08: Distância Euclidiana**"
      ]
    },
    {
      "cell_type": "markdown",
      "id": "401c1d27",
      "metadata": {
        "id": "401c1d27"
      },
      "source": [
        "### Nome: não esqueçam de colocar o seu  nome aqui\n",
        "\n",
        "*   Alexandre Raminelli | 24.01625-0\n",
        "\n"
      ]
    },
    {
      "cell_type": "markdown",
      "source": [
        "***"
      ],
      "metadata": {
        "id": "f_BhDk4O2hGm"
      },
      "id": "f_BhDk4O2hGm"
    },
    {
      "cell_type": "markdown",
      "id": "d88e9d96-9603-410a-a6c7-10be85cbe3b4",
      "metadata": {
        "id": "d88e9d96-9603-410a-a6c7-10be85cbe3b4"
      },
      "source": [
        "### **Atividade 1**\n",
        "\n",
        "Classificar uma nova imagem com base em sua similaridade com duas imagens conhecidas, utilizando vetores e o cálculo da distância euclidiana. **Veja o documento que está no Canvas.**"
      ]
    },
    {
      "cell_type": "code",
      "source": [
        "from math import sqrt\n",
        "\n",
        "# Distância euclidiana\n",
        "def distancia_euclidiana(u, v):\n",
        "  sum = 0\n",
        "  for i in range(len(u)):\n",
        "    sum += (u[i] - v[i])**2\n",
        "  r = sqrt(sum)\n",
        "  return r"
      ],
      "metadata": {
        "id": "KGPGh3MB4Ss4"
      },
      "id": "KGPGh3MB4Ss4",
      "execution_count": 24,
      "outputs": []
    },
    {
      "cell_type": "code",
      "execution_count": 25,
      "id": "20e9e36e-8670-4604-ae34-ce2e1e661b29",
      "metadata": {
        "id": "20e9e36e-8670-4604-ae34-ce2e1e661b29",
        "outputId": "40a854f6-9e35-4855-b661-ae7166637203",
        "colab": {
          "base_uri": "https://localhost:8080/"
        }
      },
      "outputs": [
        {
          "output_type": "stream",
          "name": "stdout",
          "text": [
            "Distância euclidiana: 0.6082762530298219\n"
          ]
        }
      ],
      "source": [
        "\n",
        "# Matrizes\n",
        "imagemA = [0.3, 0.8, 0.2, 0.6, 0.7, 0.4, 0.2, 0.5, 0.7]\n",
        "imagemA.sort()\n",
        "imagemB = [0.1, 0.2, 0.3, 0.4, 0.5, 0.6, 0.1, 0.2, 0.3]\n",
        "imagemB.sort()\n",
        "\n",
        "# Distância euclidiana\n",
        "distancia_euclidiana = distancia_euclidiana(imagemA, imagemB)\n",
        "print(\"Distância euclidiana:\", distancia_euclidiana)\n",
        "\n",
        "\n"
      ]
    },
    {
      "cell_type": "markdown",
      "source": [
        "***"
      ],
      "metadata": {
        "id": "50VZj4kT2iVJ"
      },
      "id": "50VZj4kT2iVJ"
    },
    {
      "cell_type": "markdown",
      "id": "faef8e61-d811-4eae-981b-f941766f2f22",
      "metadata": {
        "id": "faef8e61-d811-4eae-981b-f941766f2f22"
      },
      "source": [
        "### **Atividade 2**\n",
        "\n",
        "Esta atividade consiste em criar cinco imagens com diferentes níveis de claridade, desde totalmente branca até totalmente preta, convertê-las para tons de cinza e salvá-las. Em seguida, o aluno irá carregar cada imagem no Python, por meio de bibliotecas como Pillow ou OpenCV, e redimensionar para, por exemplo, uma matriz 3×3. Logo após, esses valores de pixels serão “desenrolados” em vetores, servindo como as cinco referências de claridade. Então, o aluno produzirá ou selecionará uma nova imagem para ser processada do mesmo modo, obtendo assim um vetor que será comparado a cada uma das referências, calculando as distâncias euclidianas para determinar a qual categoria ela pertence. Ao final, a imagem nova será classificada na categoria que apresentar a menor distância. Além de ilustrar conceitos de Álgebra Linear, Geometria Analítica e manipulação de imagens, essa prática também exemplifica princípios básicos de Inteligência Artificial, mostrando como a comparação de dados numéricos (neste caso, os valores de pixels) pode levar a uma forma simples de tomada de decisão ou classificação, semelhante ao que ocorre em algoritmos de IA mais avançados."
      ]
    },
    {
      "cell_type": "code",
      "execution_count": null,
      "id": "29835d5e-16cb-43e2-840f-31707c0a0559",
      "metadata": {
        "id": "29835d5e-16cb-43e2-840f-31707c0a0559"
      },
      "outputs": [],
      "source": [
        "#Coloque aqui seu código"
      ]
    }
  ],
  "metadata": {
    "kernelspec": {
      "display_name": "Python 3 (ipykernel)",
      "language": "python",
      "name": "python3"
    },
    "language_info": {
      "codemirror_mode": {
        "name": "ipython",
        "version": 3
      },
      "file_extension": ".py",
      "mimetype": "text/x-python",
      "name": "python",
      "nbconvert_exporter": "python",
      "pygments_lexer": "ipython3",
      "version": "3.13.2"
    },
    "colab": {
      "provenance": []
    }
  },
  "nbformat": 4,
  "nbformat_minor": 5
}