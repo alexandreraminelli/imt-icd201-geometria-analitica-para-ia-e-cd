{
 "cells": [
  {
   "cell_type": "markdown",
   "id": "a0f9fc65",
   "metadata": {},
   "source": [
    "<img src= \"https://maua.br/images/logo-IMT.png\" width=250>"
   ]
  },
  {
   "cell_type": "markdown",
   "id": "cf4b175c",
   "metadata": {},
   "source": [
    "#  <center> <font color=#023e8a>  **ID201: Geometria Analítica para Inteligência Artificial e Ciência de Dados.**  <center>\n",
    " <center> Prof. Sandro Martini <center>"
   ]
  },
  {
   "cell_type": "markdown",
   "id": "89f58705",
   "metadata": {},
   "source": [
    "## <center>  **Semana 08: Distância Euclidiana**"
   ]
  },
  {
   "cell_type": "markdown",
   "id": "401c1d27",
   "metadata": {},
   "source": [
    "### Nome: não esqueçam de colocar o seu  nome aqui"
   ]
  },
  {
   "cell_type": "markdown",
   "id": "d88e9d96-9603-410a-a6c7-10be85cbe3b4",
   "metadata": {},
   "source": [
    "### **Atividade 1**\n",
    "\n",
    "Classificar uma nova imagem com base em sua similaridade com duas imagens conhecidas, utilizando vetores e o cálculo da distância euclidiana. **Veja o documento que está no Canvas.**"
   ]
  },
  {
   "cell_type": "code",
   "execution_count": 4,
   "id": "20e9e36e-8670-4604-ae34-ce2e1e661b29",
   "metadata": {},
   "outputs": [],
   "source": [
    "#Coloque aqui seu código"
   ]
  },
  {
   "cell_type": "markdown",
   "id": "faef8e61-d811-4eae-981b-f941766f2f22",
   "metadata": {},
   "source": [
    "### **Atividade 2**\n",
    "\n",
    "Esta atividade consiste em criar cinco imagens com diferentes níveis de claridade, desde totalmente branca até totalmente preta, convertê-las para tons de cinza e salvá-las. Em seguida, o aluno irá carregar cada imagem no Python, por meio de bibliotecas como Pillow ou OpenCV, e redimensionar para, por exemplo, uma matriz 3×3. Logo após, esses valores de pixels serão “desenrolados” em vetores, servindo como as cinco referências de claridade. Então, o aluno produzirá ou selecionará uma nova imagem para ser processada do mesmo modo, obtendo assim um vetor que será comparado a cada uma das referências, calculando as distâncias euclidianas para determinar a qual categoria ela pertence. Ao final, a imagem nova será classificada na categoria que apresentar a menor distância. Além de ilustrar conceitos de Álgebra Linear, Geometria Analítica e manipulação de imagens, essa prática também exemplifica princípios básicos de Inteligência Artificial, mostrando como a comparação de dados numéricos (neste caso, os valores de pixels) pode levar a uma forma simples de tomada de decisão ou classificação, semelhante ao que ocorre em algoritmos de IA mais avançados."
   ]
  },
  {
   "cell_type": "code",
   "execution_count": null,
   "id": "29835d5e-16cb-43e2-840f-31707c0a0559",
   "metadata": {},
   "outputs": [],
   "source": [
    "#Coloque aqui seu código"
   ]
  }
 ],
 "metadata": {
  "kernelspec": {
   "display_name": "Python 3 (ipykernel)",
   "language": "python",
   "name": "python3"
  },
  "language_info": {
   "codemirror_mode": {
    "name": "ipython",
    "version": 3
   },
   "file_extension": ".py",
   "mimetype": "text/x-python",
   "name": "python",
   "nbconvert_exporter": "python",
   "pygments_lexer": "ipython3",
   "version": "3.13.2"
  }
 },
 "nbformat": 4,
 "nbformat_minor": 5
}
